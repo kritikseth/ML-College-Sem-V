{
  "nbformat": 4,
  "nbformat_minor": 0,
  "metadata": {
    "colab": {
      "name": "ML_10_J043_210920.ipynb",
      "provenance": [],
      "collapsed_sections": []
    },
    "kernelspec": {
      "name": "python3",
      "display_name": "Python 3"
    },
    "accelerator": "GPU"
  },
  "cells": [
    {
      "cell_type": "markdown",
      "metadata": {
        "id": "Plqbjjr95jOZ"
      },
      "source": [
        "<a href='https://kritikseth.github.io/ipynbtagredirect' target='_parent'><img src='https://raw.githack.com/kritikseth/kritikseth/master/assets/icons/kritik_ipynbtagredirect.svg' alt='Kritik Seth'/></a>"
      ]
    },
    {
      "cell_type": "code",
      "metadata": {
        "id": "zgumawuy5pkn"
      },
      "source": [
        "!pip install swachhdata"
      ],
      "execution_count": 1,
      "outputs": []
    },
    {
      "cell_type": "code",
      "metadata": {
        "id": "MnVoP_386A3T",
        "outputId": "938b7004-15b5-45cc-b894-133c63e07d52",
        "colab": {
          "base_uri": "https://localhost:8080/"
        }
      },
      "source": [
        "import swachhdata.text as sdt"
      ],
      "execution_count": 2,
      "outputs": [
        {
          "output_type": "stream",
          "text": [
            "[nltk_data] Downloading package averaged_perceptron_tagger to\n",
            "[nltk_data]     /root/nltk_data...\n",
            "[nltk_data]   Unzipping taggers/averaged_perceptron_tagger.zip.\n",
            "[nltk_data] Downloading package wordnet to /root/nltk_data...\n",
            "[nltk_data]   Unzipping corpora/wordnet.zip.\n",
            "[nltk_data] Downloading package punkt to /root/nltk_data...\n",
            "[nltk_data]   Unzipping tokenizers/punkt.zip.\n",
            "[nltk_data] Downloading package stopwords to /root/nltk_data...\n",
            "[nltk_data]   Unzipping corpora/stopwords.zip.\n"
          ],
          "name": "stdout"
        }
      ]
    },
    {
      "cell_type": "code",
      "metadata": {
        "id": "VuSUwnxO5EFd"
      },
      "source": [
        "import pandas as pd\n",
        "import numpy as np\n",
        "from prettytable import PrettyTable\n",
        "\n",
        "import scipy as sp\n",
        "from sklearn.feature_extraction.text import TfidfVectorizer\n",
        "from sklearn.preprocessing import normalize, OneHotEncoder\n",
        "from sklearn.decomposition import TruncatedSVD\n",
        "from sklearn.model_selection import train_test_split\n",
        "from sklearn.multioutput import RegressorChain\n",
        "\n",
        "from sklearn.model_selection import RandomizedSearchCV\n",
        "from sklearn.ensemble import GradientBoostingRegressor\n",
        "from sklearn.metrics import r2_score, mean_squared_error\n",
        "from sklearn.multiclass import OneVsRestClassifier\n",
        "from sklearn.naive_bayes import MultinomialNB\n",
        "from sklearn.linear_model import SGDRegressor\n",
        "from sklearn.linear_model import LinearRegression\n",
        "from sklearn.linear_model import Ridge\n",
        "from sklearn import linear_model\n",
        "from sklearn.svm import LinearSVR"
      ],
      "execution_count": 3,
      "outputs": []
    },
    {
      "cell_type": "code",
      "metadata": {
        "id": "0SyU_o696DeK"
      },
      "source": [
        "!wget -O train.csv.zip https://github.com/pranavn91/blockchain/blob/master/train.csv.zip?raw=true\n",
        "!wget -O test.csv.zip https://github.com/pranavn91/blockchain/blob/master/test.csv.zip?raw=true\n",
        "!unzip train.csv.zip\n",
        "!unzip test.csv.zip"
      ],
      "execution_count": 4,
      "outputs": []
    },
    {
      "cell_type": "code",
      "metadata": {
        "id": "J7JRVl0P6IsD"
      },
      "source": [
        "train = pd.read_csv('train.csv', error_bad_lines=False)\n",
        "test = pd.read_csv('test.csv', error_bad_lines=False)"
      ],
      "execution_count": 5,
      "outputs": []
    },
    {
      "cell_type": "code",
      "metadata": {
        "id": "fTiR8oOJ6PSP",
        "outputId": "36457cf4-3338-40e0-f080-0757fee0bba8",
        "colab": {
          "base_uri": "https://localhost:8080/"
        }
      },
      "source": [
        "train.shape, test.shape"
      ],
      "execution_count": 6,
      "outputs": [
        {
          "output_type": "execute_result",
          "data": {
            "text/plain": [
              "((77946, 28), (42157, 4))"
            ]
          },
          "metadata": {
            "tags": []
          },
          "execution_count": 6
        }
      ]
    },
    {
      "cell_type": "code",
      "metadata": {
        "id": "KxLjhw7e6SGc"
      },
      "source": [
        "target_cols = train.columns.difference(test.columns)\n",
        "target = train[target_cols]\n",
        "train.drop(target_cols, axis=1, inplace=True)"
      ],
      "execution_count": 7,
      "outputs": []
    },
    {
      "cell_type": "code",
      "metadata": {
        "id": "t5uoXeJ66V2W",
        "outputId": "555c36e4-950e-4ada-fe10-ea60e71df19a",
        "colab": {
          "base_uri": "https://localhost:8080/",
          "height": 142
        }
      },
      "source": [
        "train.head(3)"
      ],
      "execution_count": 8,
      "outputs": [
        {
          "output_type": "execute_result",
          "data": {
            "text/html": [
              "<div>\n",
              "<style scoped>\n",
              "    .dataframe tbody tr th:only-of-type {\n",
              "        vertical-align: middle;\n",
              "    }\n",
              "\n",
              "    .dataframe tbody tr th {\n",
              "        vertical-align: top;\n",
              "    }\n",
              "\n",
              "    .dataframe thead th {\n",
              "        text-align: right;\n",
              "    }\n",
              "</style>\n",
              "<table border=\"1\" class=\"dataframe\">\n",
              "  <thead>\n",
              "    <tr style=\"text-align: right;\">\n",
              "      <th></th>\n",
              "      <th>id</th>\n",
              "      <th>tweet</th>\n",
              "      <th>state</th>\n",
              "      <th>location</th>\n",
              "    </tr>\n",
              "  </thead>\n",
              "  <tbody>\n",
              "    <tr>\n",
              "      <th>0</th>\n",
              "      <td>1</td>\n",
              "      <td>Jazz for a Rainy Afternoon:  {link}</td>\n",
              "      <td>oklahoma</td>\n",
              "      <td>Oklahoma</td>\n",
              "    </tr>\n",
              "    <tr>\n",
              "      <th>1</th>\n",
              "      <td>2</td>\n",
              "      <td>RT: @mention: I love rainy days.</td>\n",
              "      <td>florida</td>\n",
              "      <td>Miami-Ft. Lauderdale</td>\n",
              "    </tr>\n",
              "    <tr>\n",
              "      <th>2</th>\n",
              "      <td>3</td>\n",
              "      <td>Good Morning Chicago! Time to kick the Windy C...</td>\n",
              "      <td>idaho</td>\n",
              "      <td>NaN</td>\n",
              "    </tr>\n",
              "  </tbody>\n",
              "</table>\n",
              "</div>"
            ],
            "text/plain": [
              "   id  ...              location\n",
              "0   1  ...              Oklahoma\n",
              "1   2  ...  Miami-Ft. Lauderdale\n",
              "2   3  ...                   NaN\n",
              "\n",
              "[3 rows x 4 columns]"
            ]
          },
          "metadata": {
            "tags": []
          },
          "execution_count": 8
        }
      ]
    },
    {
      "cell_type": "code",
      "metadata": {
        "id": "dLRvp96F6jM6",
        "outputId": "083da667-1984-4ab4-cf9f-b2979cc7fd72",
        "colab": {
          "base_uri": "https://localhost:8080/",
          "height": 142
        }
      },
      "source": [
        "test.head(3)"
      ],
      "execution_count": 9,
      "outputs": [
        {
          "output_type": "execute_result",
          "data": {
            "text/html": [
              "<div>\n",
              "<style scoped>\n",
              "    .dataframe tbody tr th:only-of-type {\n",
              "        vertical-align: middle;\n",
              "    }\n",
              "\n",
              "    .dataframe tbody tr th {\n",
              "        vertical-align: top;\n",
              "    }\n",
              "\n",
              "    .dataframe thead th {\n",
              "        text-align: right;\n",
              "    }\n",
              "</style>\n",
              "<table border=\"1\" class=\"dataframe\">\n",
              "  <thead>\n",
              "    <tr style=\"text-align: right;\">\n",
              "      <th></th>\n",
              "      <th>id</th>\n",
              "      <th>tweet</th>\n",
              "      <th>state</th>\n",
              "      <th>location</th>\n",
              "    </tr>\n",
              "  </thead>\n",
              "  <tbody>\n",
              "    <tr>\n",
              "      <th>0</th>\n",
              "      <td>4</td>\n",
              "      <td>Edinburgh peeps is it sunny?? #weather</td>\n",
              "      <td>NaN</td>\n",
              "      <td>birmingham</td>\n",
              "    </tr>\n",
              "    <tr>\n",
              "      <th>1</th>\n",
              "      <td>5</td>\n",
              "      <td>SEEVERE T’STORM WARNING FOR TROUSDALE,  NORTHW...</td>\n",
              "      <td>NaN</td>\n",
              "      <td>Nashville</td>\n",
              "    </tr>\n",
              "    <tr>\n",
              "      <th>2</th>\n",
              "      <td>7</td>\n",
              "      <td>@Agilis1 sport or traditional climbing? Thats ...</td>\n",
              "      <td>NaN</td>\n",
              "      <td>Midwest</td>\n",
              "    </tr>\n",
              "  </tbody>\n",
              "</table>\n",
              "</div>"
            ],
            "text/plain": [
              "   id                                              tweet state    location\n",
              "0   4             Edinburgh peeps is it sunny?? #weather   NaN  birmingham\n",
              "1   5  SEEVERE T’STORM WARNING FOR TROUSDALE,  NORTHW...   NaN   Nashville\n",
              "2   7  @Agilis1 sport or traditional climbing? Thats ...   NaN     Midwest"
            ]
          },
          "metadata": {
            "tags": []
          },
          "execution_count": 9
        }
      ]
    },
    {
      "cell_type": "code",
      "metadata": {
        "id": "VFJoTzvm6koy",
        "outputId": "f602cc80-2224-4d29-ad38-08a9b0ac37a9",
        "colab": {
          "base_uri": "https://localhost:8080/",
          "height": 142
        }
      },
      "source": [
        "target.head(3)"
      ],
      "execution_count": 10,
      "outputs": [
        {
          "output_type": "execute_result",
          "data": {
            "text/html": [
              "<div>\n",
              "<style scoped>\n",
              "    .dataframe tbody tr th:only-of-type {\n",
              "        vertical-align: middle;\n",
              "    }\n",
              "\n",
              "    .dataframe tbody tr th {\n",
              "        vertical-align: top;\n",
              "    }\n",
              "\n",
              "    .dataframe thead th {\n",
              "        text-align: right;\n",
              "    }\n",
              "</style>\n",
              "<table border=\"1\" class=\"dataframe\">\n",
              "  <thead>\n",
              "    <tr style=\"text-align: right;\">\n",
              "      <th></th>\n",
              "      <th>k1</th>\n",
              "      <th>k10</th>\n",
              "      <th>k11</th>\n",
              "      <th>k12</th>\n",
              "      <th>k13</th>\n",
              "      <th>k14</th>\n",
              "      <th>k15</th>\n",
              "      <th>k2</th>\n",
              "      <th>k3</th>\n",
              "      <th>k4</th>\n",
              "      <th>k5</th>\n",
              "      <th>k6</th>\n",
              "      <th>k7</th>\n",
              "      <th>k8</th>\n",
              "      <th>k9</th>\n",
              "      <th>s1</th>\n",
              "      <th>s2</th>\n",
              "      <th>s3</th>\n",
              "      <th>s4</th>\n",
              "      <th>s5</th>\n",
              "      <th>w1</th>\n",
              "      <th>w2</th>\n",
              "      <th>w3</th>\n",
              "      <th>w4</th>\n",
              "    </tr>\n",
              "  </thead>\n",
              "  <tbody>\n",
              "    <tr>\n",
              "      <th>0</th>\n",
              "      <td>0.0</td>\n",
              "      <td>1.0</td>\n",
              "      <td>0.0</td>\n",
              "      <td>0.0</td>\n",
              "      <td>0.0</td>\n",
              "      <td>0.0</td>\n",
              "      <td>0.0</td>\n",
              "      <td>0.0</td>\n",
              "      <td>0.0</td>\n",
              "      <td>0.0</td>\n",
              "      <td>0.0</td>\n",
              "      <td>0.0</td>\n",
              "      <td>0.0</td>\n",
              "      <td>0.0</td>\n",
              "      <td>0.0</td>\n",
              "      <td>0.0</td>\n",
              "      <td>0.0</td>\n",
              "      <td>1.0</td>\n",
              "      <td>0.0</td>\n",
              "      <td>0.0</td>\n",
              "      <td>0.800</td>\n",
              "      <td>0.0</td>\n",
              "      <td>0.200</td>\n",
              "      <td>0.0</td>\n",
              "    </tr>\n",
              "    <tr>\n",
              "      <th>1</th>\n",
              "      <td>0.0</td>\n",
              "      <td>1.0</td>\n",
              "      <td>0.0</td>\n",
              "      <td>0.0</td>\n",
              "      <td>0.0</td>\n",
              "      <td>0.0</td>\n",
              "      <td>0.0</td>\n",
              "      <td>0.0</td>\n",
              "      <td>0.0</td>\n",
              "      <td>0.0</td>\n",
              "      <td>0.0</td>\n",
              "      <td>0.0</td>\n",
              "      <td>0.0</td>\n",
              "      <td>0.0</td>\n",
              "      <td>0.0</td>\n",
              "      <td>0.0</td>\n",
              "      <td>0.0</td>\n",
              "      <td>0.0</td>\n",
              "      <td>1.0</td>\n",
              "      <td>0.0</td>\n",
              "      <td>0.196</td>\n",
              "      <td>0.0</td>\n",
              "      <td>0.804</td>\n",
              "      <td>0.0</td>\n",
              "    </tr>\n",
              "    <tr>\n",
              "      <th>2</th>\n",
              "      <td>0.0</td>\n",
              "      <td>0.0</td>\n",
              "      <td>0.0</td>\n",
              "      <td>0.0</td>\n",
              "      <td>0.0</td>\n",
              "      <td>0.0</td>\n",
              "      <td>0.0</td>\n",
              "      <td>0.0</td>\n",
              "      <td>0.0</td>\n",
              "      <td>0.0</td>\n",
              "      <td>0.0</td>\n",
              "      <td>0.0</td>\n",
              "      <td>1.0</td>\n",
              "      <td>0.0</td>\n",
              "      <td>0.0</td>\n",
              "      <td>0.0</td>\n",
              "      <td>0.0</td>\n",
              "      <td>0.0</td>\n",
              "      <td>0.0</td>\n",
              "      <td>1.0</td>\n",
              "      <td>0.000</td>\n",
              "      <td>0.0</td>\n",
              "      <td>1.000</td>\n",
              "      <td>0.0</td>\n",
              "    </tr>\n",
              "  </tbody>\n",
              "</table>\n",
              "</div>"
            ],
            "text/plain": [
              "    k1  k10  k11  k12  k13  k14  k15  ...   s3   s4   s5     w1   w2     w3   w4\n",
              "0  0.0  1.0  0.0  0.0  0.0  0.0  0.0  ...  1.0  0.0  0.0  0.800  0.0  0.200  0.0\n",
              "1  0.0  1.0  0.0  0.0  0.0  0.0  0.0  ...  0.0  1.0  0.0  0.196  0.0  0.804  0.0\n",
              "2  0.0  0.0  0.0  0.0  0.0  0.0  0.0  ...  0.0  0.0  1.0  0.000  0.0  1.000  0.0\n",
              "\n",
              "[3 rows x 24 columns]"
            ]
          },
          "metadata": {
            "tags": []
          },
          "execution_count": 10
        }
      ]
    },
    {
      "cell_type": "code",
      "metadata": {
        "id": "BHWGYXR06mAp"
      },
      "source": [
        "for data in (train, test):\n",
        "    missing_loc_idx = data.index[data.location.isnull()].tolist()\n",
        "    missing_loc_dict = {}\n",
        "    for i in range(len(data)):\n",
        "        if i in missing_loc_idx:\n",
        "            missing_loc_dict[i] = 1\n",
        "        else:\n",
        "            missing_loc_dict[i] = 0\n",
        "    data['missing_loc'] = data.index.map(missing_loc_dict)\n",
        "\n",
        "for data in (train,test):\n",
        "    missing_state_idx = data.index[data.state.isnull()].tolist()\n",
        "    missing_state_dict = {}\n",
        "    for i in range(len(data)):\n",
        "        if i in missing_state_idx:\n",
        "            missing_state_dict[i] = 1\n",
        "        else:\n",
        "            missing_state_dict[i] = 0\n",
        "    data['missing_state']= data.index.map(missing_state_dict)"
      ],
      "execution_count": 11,
      "outputs": []
    },
    {
      "cell_type": "code",
      "metadata": {
        "id": "ZbuRc5N56qUN"
      },
      "source": [
        "for data in (train,test):\n",
        "    data['location'] = data['location'].replace(np.nan, '', regex=True)\n",
        "    data['state'] = data['state'].replace(np.nan, '', regex=True)\n",
        "    data['full_text'] = data['tweet'] + ' ' + data['state'] + ' ' + data['location']"
      ],
      "execution_count": 12,
      "outputs": []
    },
    {
      "cell_type": "code",
      "metadata": {
        "id": "7Lu2oycS7Yju"
      },
      "source": [
        "train_text = train[['full_text']].values.tolist()\n",
        "train_text = [item for sublist in train_text for item in sublist]\n",
        "test_text = test[['full_text']].values.tolist()\n",
        "test_text = [item for sublist in test_text for item in sublist]"
      ],
      "execution_count": 13,
      "outputs": []
    },
    {
      "cell_type": "code",
      "metadata": {
        "id": "JR4sgPbi75Vg",
        "outputId": "a9900e14-4a7c-43be-aff2-90b795aea630",
        "colab": {
          "base_uri": "https://localhost:8080/"
        }
      },
      "source": [
        "setup = sdt.TextSetup(train_text)\n",
        "st = sdt.SwachhText(setup)\n",
        "ssb = sdt.SwachhSabText(st)\n",
        "\n",
        "train_text = ssb.clean_text(rem_url = True, rem_html = True, rem_linebreak = True, rem_mention = True,\n",
        "                            exp_contraction = True, lower_case = True, rem_emoji = True, rem_acc_char = True,\n",
        "                            rem_non_ascii_char = True, rem_num = True, rem_hashtag = True, rem_punct = True,\n",
        "                            keep_alpha = True, rem_stop_word = True, lemmatization = True, verbose = True)"
      ],
      "execution_count": 14,
      "outputs": [
        {
          "output_type": "stream",
          "text": [
            "Initializing...\n",
            "\n",
            "Removing URLs...\n",
            "Removing HTML tags...\n",
            "Removing breaks...\n",
            "Removing mentions...\n",
            "Expanding conractions...\n",
            "Removing emojis...\n",
            "Removing accented characters...\n",
            "Removing non ASCII characters...\n",
            "Removing numbers...\n",
            "Removing hashtags...\n",
            "Removing punctuations...\n",
            "Filtering out non alphabets...\n",
            "Removing stop words...\n",
            "Lemmatizing...\n",
            "\n",
            "Complete!\n",
            "\n"
          ],
          "name": "stdout"
        }
      ]
    },
    {
      "cell_type": "code",
      "metadata": {
        "id": "N4MN0n0W8fha",
        "outputId": "2e2539e6-3f63-4955-adeb-3b7201ac2d71",
        "colab": {
          "base_uri": "https://localhost:8080/"
        }
      },
      "source": [
        "setup = sdt.TextSetup(test_text)\n",
        "st = sdt.SwachhText(setup)\n",
        "ssb = sdt.SwachhSabText(st)\n",
        "\n",
        "test_text = ssb.clean_text(rem_url = True, rem_html = True, rem_linebreak = True, rem_mention = True,\n",
        "                           exp_contraction = True, lower_case = True, rem_emoji = True, rem_acc_char = True,\n",
        "                           rem_non_ascii_char = True, rem_num = True, rem_hashtag = True, rem_punct = True,\n",
        "                           keep_alpha = True, rem_stop_word = True, lemmatization = True, verbose = True)"
      ],
      "execution_count": 15,
      "outputs": [
        {
          "output_type": "stream",
          "text": [
            "Initializing...\n",
            "\n",
            "Removing URLs...\n",
            "Removing HTML tags...\n",
            "Removing breaks...\n",
            "Removing mentions...\n",
            "Expanding conractions...\n",
            "Removing emojis...\n",
            "Removing accented characters...\n",
            "Removing non ASCII characters...\n",
            "Removing numbers...\n",
            "Removing hashtags...\n",
            "Removing punctuations...\n",
            "Filtering out non alphabets...\n",
            "Removing stop words...\n",
            "Lemmatizing...\n",
            "\n",
            "Complete!\n",
            "\n"
          ],
          "name": "stdout"
        }
      ]
    },
    {
      "cell_type": "code",
      "metadata": {
        "id": "jGNvg1Zr8mgW"
      },
      "source": [
        "train['clean_text'] = train_text\n",
        "test['clean_text'] = test_text"
      ],
      "execution_count": 16,
      "outputs": []
    },
    {
      "cell_type": "code",
      "metadata": {
        "id": "KUfsRahW_DYo"
      },
      "source": [
        "vectorizer = TfidfVectorizer(encoding='utf-8', ngram_range=(1, 3), max_df=0.75, min_df=5)\n",
        "\n",
        "train_vec = vectorizer.fit_transform(train.clean_text)\n",
        "test_vec = vectorizer.transform(test.clean_text)\n",
        "\n",
        "svd = TruncatedSVD(n_components=2, algorithm='randomized', n_iter=5, random_state=None, tol=0.0)\n",
        "train_svd = svd.fit_transform(train_vec)\n",
        "test_svd = svd.transform(test_vec)"
      ],
      "execution_count": 17,
      "outputs": []
    },
    {
      "cell_type": "code",
      "metadata": {
        "id": "I_brHrfe_zqT"
      },
      "source": [
        "col = ['svd1', 'svd2']\n",
        "svd_train =  pd.DataFrame(train_svd, columns=col)\n",
        "svd_test = pd.DataFrame(test_svd, columns=col)"
      ],
      "execution_count": 18,
      "outputs": []
    },
    {
      "cell_type": "code",
      "metadata": {
        "id": "kYXhyoBBbMCp"
      },
      "source": [
        "ohe = OneHotEncoder()\n",
        "vectorizer2 = TfidfVectorizer(encoding='utf-8', ngram_range=(1, 3), max_df=0.75, min_df=5, max_features=50000)"
      ],
      "execution_count": 19,
      "outputs": []
    },
    {
      "cell_type": "code",
      "metadata": {
        "id": "I0MtOeQzbOdO"
      },
      "source": [
        "X = sp.sparse.hstack((vectorizer2.fit_transform(train.clean_text), svd_train[['svd1','svd2']]), format='csr')\n",
        "X_cols = vectorizer.get_feature_names() + svd_train[['svd1','svd2']].columns.tolist()"
      ],
      "execution_count": 20,
      "outputs": []
    },
    {
      "cell_type": "code",
      "metadata": {
        "id": "PwHOSKOHbLA4"
      },
      "source": [
        "test_sp = sp.sparse.hstack((vectorizer2.transform(test.clean_text), svd_test[['svd1','svd2']]), format='csr')\n",
        "test_cols = vectorizer.get_feature_names() + svd_test[['svd1','svd2']].columns.tolist()"
      ],
      "execution_count": 21,
      "outputs": []
    },
    {
      "cell_type": "code",
      "metadata": {
        "id": "YLz7S9Sqbdox"
      },
      "source": [
        "X_train, X_test, y_train, y_test = train_test_split(X, target, test_size=0.2, random_state=0)"
      ],
      "execution_count": 22,
      "outputs": []
    },
    {
      "cell_type": "code",
      "metadata": {
        "id": "D3hfNU49dlR_",
        "outputId": "850cedd1-3c91-4c6e-8bf4-00c40421fbfd",
        "colab": {
          "base_uri": "https://localhost:8080/"
        }
      },
      "source": [
        "cols = target.columns\n",
        "\n",
        "clf = Ridge(random_state=25, alpha=0.9982890050528583)\n",
        "\n",
        "table = PrettyTable()\n",
        "table.field_names = ['Column Name', 'MSE', 'RMSE', 'R2 Score']\n",
        "\n",
        "for col in cols:\n",
        "    clf.fit(X_train, y_train[col])\n",
        "    mse = mean_squared_error(y_test[col], clf.predict(X_test))\n",
        "    rmse = mean_squared_error(y_test[col], clf.predict(X_test), squared=False)\n",
        "    r2 = r2_score(y_test[col], clf.predict(X_test))\n",
        "    table.add_row([col, f'{mse:.3f}', f'{rmse:.3f}', f'{r2:.3f}'])\n",
        "\n",
        "print(table)"
      ],
      "execution_count": 23,
      "outputs": [
        {
          "output_type": "stream",
          "text": [
            "+-------------+-------+-------+----------+\n",
            "| Column Name |  MSE  |  RMSE | R2 Score |\n",
            "+-------------+-------+-------+----------+\n",
            "|      k1     | 0.005 | 0.070 |  0.692   |\n",
            "|     k10     | 0.017 | 0.131 |  0.798   |\n",
            "|     k11     | 0.007 | 0.085 |  0.783   |\n",
            "|     k12     | 0.018 | 0.134 |  0.844   |\n",
            "|     k13     | 0.024 | 0.154 |  0.776   |\n",
            "|     k14     | 0.003 | 0.056 |  0.786   |\n",
            "|     k15     | 0.007 | 0.084 |  0.816   |\n",
            "|      k2     | 0.022 | 0.150 |  0.701   |\n",
            "|      k3     | 0.002 | 0.046 |  0.293   |\n",
            "|      k4     | 0.025 | 0.159 |  0.697   |\n",
            "|      k5     | 0.005 | 0.070 |  0.812   |\n",
            "|      k6     | 0.000 | 0.022 |  0.578   |\n",
            "|      k7     | 0.058 | 0.242 |  0.606   |\n",
            "|      k8     | 0.001 | 0.033 |  0.310   |\n",
            "|      k9     | 0.021 | 0.146 |  0.161   |\n",
            "|      s1     | 0.013 | 0.115 |  0.033   |\n",
            "|      s2     | 0.061 | 0.247 |  0.491   |\n",
            "|      s3     | 0.048 | 0.219 |  0.603   |\n",
            "|      s4     | 0.054 | 0.233 |  0.584   |\n",
            "|      s5     | 0.044 | 0.209 |  0.380   |\n",
            "|      w1     | 0.083 | 0.287 |  0.316   |\n",
            "|      w2     | 0.032 | 0.178 |  0.382   |\n",
            "|      w3     | 0.054 | 0.233 |  0.132   |\n",
            "|      w4     | 0.025 | 0.157 |  0.294   |\n",
            "+-------------+-------+-------+----------+\n"
          ],
          "name": "stdout"
        }
      ]
    }
  ]
}