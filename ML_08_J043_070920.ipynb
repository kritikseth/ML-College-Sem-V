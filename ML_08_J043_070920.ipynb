{
  "nbformat": 4,
  "nbformat_minor": 0,
  "metadata": {
    "colab": {
      "name": "ML_08_J043_070920.ipynb",
      "provenance": [],
      "collapsed_sections": []
    },
    "kernelspec": {
      "name": "python3",
      "display_name": "Python 3"
    },
    "accelerator": "GPU"
  },
  "cells": [
    {
      "cell_type": "markdown",
      "metadata": {
        "id": "0I72GLbTItkO",
        "colab_type": "text"
      },
      "source": [
        "<a href=\"https://kritikseth.github.io/ipynbtagredirect\" target=\"_parent\"><img src=\"https://raw.githack.com/kritikseth/kritikseth/master/assets/icons/kritik_ipynbtagredirect.svg\" alt=\"Kritik Seth\"/></a>"
      ]
    },
    {
      "cell_type": "markdown",
      "metadata": {
        "id": "OZsK_hNs5JKY",
        "colab_type": "text"
      },
      "source": [
        "If you are viewing this in GitHub and cannot see the plots, [Click Here](https://nbviewer.jupyter.org/github/kritikseth/ML-College-Sem-V/blob/master/ML_08_J043_070920.ipynb)\n",
        "\n",
        "[Click Here](https://github.com/kritikseth/ML-College-Sem-V/blob/master/ML_07_J043_240820.ipynb) to go back to GitHub"
      ]
    },
    {
      "cell_type": "code",
      "metadata": {
        "id": "CjPMGkFLJkYX",
        "colab_type": "code",
        "colab": {}
      },
      "source": [
        "from bs4 import BeautifulSoup\n",
        "import numpy as np\n",
        "import requests\n",
        "import cv2\n",
        "import PIL.Image\n",
        "import urllib\n",
        "import matplotlib.pyplot as plt\n",
        "import numpy as np\n",
        "import pandas as pd\n",
        "from tqdm import tqdm\n",
        "import os\n",
        "import plotly.graph_objects as go"
      ],
      "execution_count": 1,
      "outputs": []
    },
    {
      "cell_type": "markdown",
      "metadata": {
        "id": "QEftn7KNPs4U",
        "colab_type": "text"
      },
      "source": [
        "# Fetch Data"
      ]
    },
    {
      "cell_type": "markdown",
      "metadata": {
        "id": "DDKPFh3jPTD-",
        "colab_type": "text"
      },
      "source": [
        "## Create Directories"
      ]
    },
    {
      "cell_type": "code",
      "metadata": {
        "id": "AUVTGcI1M5GP",
        "colab_type": "code",
        "colab": {}
      },
      "source": [
        "!mkdir /content/IndAfrTusk_train/ \n",
        "!mkdir /content/IndAfrTusk_valid/\n",
        "!mkdir /content/IndAfrTusk_test/ "
      ],
      "execution_count": 2,
      "outputs": []
    },
    {
      "cell_type": "code",
      "metadata": {
        "id": "94EMTrhaM7ak",
        "colab_type": "code",
        "colab": {}
      },
      "source": [
        "img_rows, img_cols = 240, 240\n",
        "input_shape = (img_rows, img_cols, 3)\n",
        "num_train = 210\n",
        "num_valid = 70\n",
        "num_test = 70"
      ],
      "execution_count": 3,
      "outputs": []
    },
    {
      "cell_type": "markdown",
      "metadata": {
        "id": "PqalmLwhPXFL",
        "colab_type": "text"
      },
      "source": [
        "## Create URL List"
      ]
    },
    {
      "cell_type": "code",
      "metadata": {
        "id": "Ltk0K4jcMvlu",
        "colab_type": "code",
        "colab": {}
      },
      "source": [
        "ind_ele = requests.get(\"http://www.image-net.org/api/text/imagenet.synset.geturls?wnid=n02504013\")\n",
        "ind_ele_soup = BeautifulSoup(ind_ele.content, 'html.parser')\n",
        "ind_ele_str = str(ind_ele_soup)\n",
        "ind_ele_urls = ind_ele_str.split('\\r\\n')"
      ],
      "execution_count": 4,
      "outputs": []
    },
    {
      "cell_type": "code",
      "metadata": {
        "id": "5YHF0T1DNXDR",
        "colab_type": "code",
        "colab": {}
      },
      "source": [
        "afr_ele = requests.get(\"http://www.image-net.org/api/text/imagenet.synset.geturls?wnid=n02504458\")\n",
        "afr_ele_soup = BeautifulSoup(afr_ele.content, 'html.parser')\n",
        "afr_ele_str = str(afr_ele_soup)\n",
        "afr_ele_urls = afr_ele_str.split('\\r\\n')"
      ],
      "execution_count": 5,
      "outputs": []
    },
    {
      "cell_type": "code",
      "metadata": {
        "id": "otqkdTRvNcrU",
        "colab_type": "code",
        "colab": {}
      },
      "source": [
        "tusker = requests.get(\"http://www.image-net.org/api/text/imagenet.synset.geturls?wnid=n01871265\")\n",
        "tusker_soup = BeautifulSoup(tusker.content, 'html.parser')\n",
        "tusker_str = str(tusker_soup)\n",
        "tusker_urls = tusker_str.split('\\r\\n')"
      ],
      "execution_count": 6,
      "outputs": []
    },
    {
      "cell_type": "code",
      "metadata": {
        "id": "RbgqFvoYNAzP",
        "colab_type": "code",
        "colab": {}
      },
      "source": [
        "def url_to_image(url):\n",
        "\tresp = urllib.request.urlopen(url)\n",
        "\timage = np.asarray(bytearray(resp.read()), dtype=\"uint8\")\n",
        "\timage = cv2.imdecode(image, cv2.IMREAD_COLOR)\n",
        "\treturn image"
      ],
      "execution_count": 7,
      "outputs": []
    },
    {
      "cell_type": "markdown",
      "metadata": {
        "id": "cJ1YaiKXPae5",
        "colab_type": "text"
      },
      "source": [
        "## Get Training Data"
      ]
    },
    {
      "cell_type": "code",
      "metadata": {
        "id": "gfoCj2LhORXx",
        "colab_type": "code",
        "colab": {
          "base_uri": "https://localhost:8080/",
          "height": 68
        },
        "outputId": "a92c3f24-98ba-480b-cf03-2e1cc2bd7bde"
      },
      "source": [
        "for progress in tqdm(range(num_train)):\n",
        "    if not ind_ele_urls[progress] == None:\n",
        "      try:\n",
        "        I = url_to_image(ind_ele_urls[progress])\n",
        "        if (len(I.shape))==3:\n",
        "          save_path = '/content/IndAfrTusk_train/Indian.'+str(progress)+'.jpg'\n",
        "          cv2.imwrite(save_path,I)\n",
        "      except:\n",
        "        None\n",
        "\n",
        "for progress in tqdm(range(num_train)):\n",
        "    if not afr_ele_urls[progress] == None:\n",
        "      try:\n",
        "        I = url_to_image(afr_ele_urls[progress])\n",
        "        if (len(I.shape))==3:\n",
        "          save_path = '/content/IndAfrTusk_train/African.'+str(progress)+'.jpg'\n",
        "          cv2.imwrite(save_path,I)\n",
        "      except:\n",
        "        None\n",
        "\n",
        "for progress in tqdm(range(num_train)):\n",
        "    if not tusker_urls[progress] == None:\n",
        "      try:\n",
        "        I = url_to_image(tusker_urls[progress])\n",
        "        if (len(I.shape))==3:\n",
        "          save_path = '/content/IndAfrTusk_train/Tusker.'+str(progress)+'.jpg'\n",
        "          cv2.imwrite(save_path,I)\n",
        "      except:\n",
        "        None"
      ],
      "execution_count": 8,
      "outputs": [
        {
          "output_type": "stream",
          "text": [
            "100%|██████████| 210/210 [04:41<00:00,  1.34s/it]\n",
            "100%|██████████| 210/210 [02:10<00:00,  1.61it/s]\n",
            "100%|██████████| 210/210 [03:17<00:00,  1.06it/s]\n"
          ],
          "name": "stderr"
        }
      ]
    },
    {
      "cell_type": "markdown",
      "metadata": {
        "id": "ysUNjEXnPdBN",
        "colab_type": "text"
      },
      "source": [
        "## Get Validation Data"
      ]
    },
    {
      "cell_type": "code",
      "metadata": {
        "id": "BcFXZHB1O_0z",
        "colab_type": "code",
        "colab": {
          "base_uri": "https://localhost:8080/",
          "height": 68
        },
        "outputId": "9c9b6689-d846-462f-86c2-232ed7a7f356"
      },
      "source": [
        "for progress in tqdm(range(num_valid)):\n",
        "    if not ind_ele_urls[progress] == None:\n",
        "      try:\n",
        "        I = url_to_image(ind_ele_urls[progress])\n",
        "        if (len(I.shape))==3:\n",
        "          save_path = '/content/IndAfrTusk_valid/Indian.'+str(progress)+'.jpg'\n",
        "          cv2.imwrite(save_path,I)\n",
        "      except:\n",
        "        None\n",
        "\n",
        "for progress in tqdm(range(num_valid)):\n",
        "    if not afr_ele_urls[progress] == None:\n",
        "      try:\n",
        "        I = url_to_image(afr_ele_urls[progress])\n",
        "        if (len(I.shape))==3:\n",
        "          save_path = '/content/IndAfrTusk_valid/African.'+str(progress)+'.jpg'\n",
        "          cv2.imwrite(save_path,I)\n",
        "      except:\n",
        "        None\n",
        "\n",
        "for progress in tqdm(range(num_valid)):\n",
        "    if not tusker_urls[progress] == None:\n",
        "      try:\n",
        "        I = url_to_image(tusker_urls[progress])\n",
        "        if (len(I.shape))==3:\n",
        "          save_path = '/content/IndAfrTusk_valid/Tusker.'+str(progress)+'.jpg'\n",
        "          cv2.imwrite(save_path,I)\n",
        "      except:\n",
        "        None"
      ],
      "execution_count": 9,
      "outputs": [
        {
          "output_type": "stream",
          "text": [
            "100%|██████████| 70/70 [01:41<00:00,  1.45s/it]\n",
            "100%|██████████| 70/70 [00:22<00:00,  3.13it/s]\n",
            "100%|██████████| 70/70 [02:20<00:00,  2.00s/it]\n"
          ],
          "name": "stderr"
        }
      ]
    },
    {
      "cell_type": "markdown",
      "metadata": {
        "id": "iVYEqJIjPeZJ",
        "colab_type": "text"
      },
      "source": [
        "## Get Testing Data"
      ]
    },
    {
      "cell_type": "code",
      "metadata": {
        "id": "Jv9dcN3XPAaF",
        "colab_type": "code",
        "colab": {
          "base_uri": "https://localhost:8080/",
          "height": 68
        },
        "outputId": "09a7d235-86a7-4fd4-e352-ca4c50dc0a73"
      },
      "source": [
        "for progress in tqdm(range(num_test)):\n",
        "    if not ind_ele_urls[progress] == None:\n",
        "      try:\n",
        "        I = url_to_image(ind_ele_urls[progress])\n",
        "        if (len(I.shape))==3:\n",
        "          save_path = '/content/IndAfrTusk_test/Indian.'+str(progress)+'.jpg'\n",
        "          cv2.imwrite(save_path,I)\n",
        "      except:\n",
        "        None\n",
        "\n",
        "for progress in tqdm(range(num_test)):\n",
        "    if not afr_ele_urls[progress] == None:\n",
        "      try:\n",
        "        I = url_to_image(afr_ele_urls[progress])\n",
        "        if (len(I.shape))==3:\n",
        "          save_path = '/content/IndAfrTusk_test/African.'+str(progress)+'.jpg'\n",
        "          cv2.imwrite(save_path,I)\n",
        "      except:\n",
        "        None\n",
        "\n",
        "for progress in tqdm(range(num_test)):\n",
        "    if not tusker_urls[progress] == None:\n",
        "      try:\n",
        "        I = url_to_image(tusker_urls[progress])\n",
        "        if (len(I.shape))==3:\n",
        "          save_path = '/content/IndAfrTusk_test/Tusker.'+str(progress)+'.jpg'\n",
        "          cv2.imwrite(save_path,I)\n",
        "      except:\n",
        "        None"
      ],
      "execution_count": 10,
      "outputs": [
        {
          "output_type": "stream",
          "text": [
            "100%|██████████| 70/70 [01:54<00:00,  1.63s/it]\n",
            "100%|██████████| 70/70 [00:22<00:00,  3.05it/s]\n",
            "100%|██████████| 70/70 [02:19<00:00,  1.99s/it]\n"
          ],
          "name": "stderr"
        }
      ]
    },
    {
      "cell_type": "markdown",
      "metadata": {
        "id": "_7p3-9gXP0NX",
        "colab_type": "text"
      },
      "source": [
        "# Label the Data"
      ]
    },
    {
      "cell_type": "code",
      "metadata": {
        "id": "I7B5EnJPta_A",
        "colab_type": "code",
        "colab": {}
      },
      "source": [
        "original_train = '/content/IndAfrTusk_train'\n",
        "original_valid = '/content/IndAfrTusk_valid'\n",
        "original_test = '/content/IndAfrTusk_test'"
      ],
      "execution_count": 11,
      "outputs": []
    },
    {
      "cell_type": "code",
      "metadata": {
        "id": "CJyMAsS9P3Ts",
        "colab_type": "code",
        "colab": {}
      },
      "source": [
        "filenames = os.listdir(original_train)\n",
        "cat_train = []\n",
        "for filename in filenames:\n",
        "    category = filename.split('.')[0]\n",
        "    if category == 'Indian':\n",
        "        cat_train.append('0')\n",
        "    elif category == 'African':\n",
        "        cat_train.append('1')\n",
        "    else:\n",
        "        cat_train.append('2')\n",
        "\n",
        " \n",
        "filenames = os.listdir(original_valid)\n",
        "cat_valid = []\n",
        "for filename in filenames:\n",
        "    category = filename.split('.')[0]\n",
        "    if category == 'Indian':\n",
        "        cat_valid.append('0')\n",
        "    elif category == 'African':\n",
        "        cat_valid.append('1')\n",
        "    else:\n",
        "        cat_valid.append('2')\n",
        "\n",
        "\n",
        "filenames = os.listdir(original_test)\n",
        "cat_test = []\n",
        "for filename in filenames:\n",
        "    category = filename.split('.')[0]\n",
        "    if category == 'Indian':\n",
        "        cat_test.append('0')\n",
        "    elif category == 'African':\n",
        "        cat_test.append('1')\n",
        "    else:\n",
        "        cat_test.append('2')"
      ],
      "execution_count": 12,
      "outputs": []
    },
    {
      "cell_type": "code",
      "metadata": {
        "id": "tZCgcp8lTl_1",
        "colab_type": "code",
        "colab": {}
      },
      "source": [
        "train = pd.DataFrame({'File':os.listdir(original_train),'Label':cat_train})\n",
        "train.to_csv('IndAfrTusk_train.csv',index=False)\n",
        "\n",
        "valid = pd.DataFrame({'File':os.listdir(original_valid),'Label':cat_valid})\n",
        "valid.to_csv('IndAfrTusk_valid.csv',index=False)\n",
        "\n",
        "test = pd.DataFrame({'File':os.listdir(original_test),'Label':cat_test})\n",
        "test.to_csv('IndAfrTusk_test.csv',index=False)"
      ],
      "execution_count": 13,
      "outputs": []
    },
    {
      "cell_type": "code",
      "metadata": {
        "id": "CoftIkkGtCU7",
        "colab_type": "code",
        "colab": {}
      },
      "source": [
        "# train = pd.read_csv('IndAfrTusk_train.csv')\n",
        "# valid = pd.read_csv('IndAfrTusk_valid.csv')\n",
        "# test = pd.read_csv('IndAfrTusk_test.csv')"
      ],
      "execution_count": 14,
      "outputs": []
    },
    {
      "cell_type": "code",
      "metadata": {
        "id": "yXmyYossUvGJ",
        "colab_type": "code",
        "colab": {
          "base_uri": "https://localhost:8080/",
          "height": 34
        },
        "outputId": "d5601e0b-b673-440c-83e5-1f43d799002c"
      },
      "source": [
        "train.shape, valid.shape, test.shape"
      ],
      "execution_count": 15,
      "outputs": [
        {
          "output_type": "execute_result",
          "data": {
            "text/plain": [
              "((404, 2), (128, 2), (128, 2))"
            ]
          },
          "metadata": {
            "tags": []
          },
          "execution_count": 15
        }
      ]
    },
    {
      "cell_type": "markdown",
      "metadata": {
        "id": "kDAOa5abU4TV",
        "colab_type": "text"
      },
      "source": [
        "# Data Augmentation"
      ]
    },
    {
      "cell_type": "code",
      "metadata": {
        "id": "RzAuPHUImrlq",
        "colab_type": "code",
        "colab": {}
      },
      "source": [
        "import keras\n",
        "from keras.models import Sequential\n",
        "from keras.layers import Dense, Flatten, Conv2D\n",
        "from keras.optimizers import SGD\n",
        "from keras.preprocessing.image import ImageDataGenerator\n",
        "from keras.callbacks import ModelCheckpoint, EarlyStopping, ReduceLROnPlateau"
      ],
      "execution_count": 16,
      "outputs": []
    },
    {
      "cell_type": "code",
      "metadata": {
        "id": "Pl2qKEpUnIZI",
        "colab_type": "code",
        "colab": {}
      },
      "source": [
        "train_datagen = ImageDataGenerator(rescale=1/255.0,\n",
        "                                   height_shift_range=0.2,\n",
        "                                   width_shift_range=0.2,\n",
        "                                   zoom_range=0.1,\n",
        "                                   vertical_flip=True,\n",
        "                                   horizontal_flip=True,\n",
        "                                   rotation_range=90,\n",
        "                                   shear_range=0.1,\n",
        "                                   fill_mode='nearest')\n",
        "\n",
        "valid_datagen = ImageDataGenerator(rescale=1/255.0,\n",
        "                                   height_shift_range=0.2,\n",
        "                                   width_shift_range=0.2,\n",
        "                                   zoom_range=0.1,\n",
        "                                   vertical_flip=True,\n",
        "                                   horizontal_flip=True,\n",
        "                                   rotation_range=90,\n",
        "                                   shear_range=0.1,\n",
        "                                   fill_mode='nearest')\n",
        "\n",
        "test_datagen = ImageDataGenerator(rescale=1/255.0)"
      ],
      "execution_count": 17,
      "outputs": []
    },
    {
      "cell_type": "code",
      "metadata": {
        "id": "1CnI6KfNpkL3",
        "colab_type": "code",
        "colab": {
          "base_uri": "https://localhost:8080/",
          "height": 68
        },
        "outputId": "595e1070-ae68-4e1e-f70c-762900aa6931"
      },
      "source": [
        "train_aug = train_datagen.flow_from_dataframe(dataframe=train,\n",
        "                                              directory=original_train,\n",
        "                                              x_col='File',\n",
        "                                              y_col='Label',\n",
        "                                              target_size=(img_rows, img_cols),\n",
        "                                              class_mode='categorical',\n",
        "                                              shuffle=True,\n",
        "                                              seed=0,\n",
        "                                              color_mode='rgb')\n",
        "\n",
        "valid_aug = valid_datagen.flow_from_dataframe(dataframe=valid,\n",
        "                                              directory=original_valid,\n",
        "                                              x_col='File',\n",
        "                                              y_col='Label',\n",
        "                                              target_size=(img_rows, img_cols),\n",
        "                                              class_mode='categorical',\n",
        "                                              shuffle=True,\n",
        "                                              seed=0,\n",
        "                                              color_mode='rgb')\n",
        "\n",
        "test_aug = test_datagen.flow_from_dataframe(dataframe=test,\n",
        "                                            directory=original_test,\n",
        "                                            x_col='File',\n",
        "                                            y_col='Label',\n",
        "                                            target_size=(img_rows, img_cols),\n",
        "                                            class_mode='categorical',\n",
        "                                            shuffle=False,\n",
        "                                            color_mode='rgb')"
      ],
      "execution_count": 18,
      "outputs": [
        {
          "output_type": "stream",
          "text": [
            "Found 404 validated image filenames belonging to 3 classes.\n",
            "Found 128 validated image filenames belonging to 3 classes.\n",
            "Found 128 validated image filenames belonging to 3 classes.\n"
          ],
          "name": "stdout"
        }
      ]
    },
    {
      "cell_type": "markdown",
      "metadata": {
        "id": "pn74fhnnsIxh",
        "colab_type": "text"
      },
      "source": [
        "# Modelling"
      ]
    },
    {
      "cell_type": "code",
      "metadata": {
        "id": "wQaQXubnrrFv",
        "colab_type": "code",
        "colab": {}
      },
      "source": [
        "model = Sequential()\n",
        "model.add(Conv2D(512, kernel_size=(img_rows, img_cols), padding='valid', activation='relu',input_shape=input_shape))\n",
        "model.add(Flatten())\n",
        "model.add(Dense(units=512, activation='relu'))\n",
        "model.add(Dense(units=512, activation='relu'))\n",
        "model.add(Dense(units=512, activation='relu'))\n",
        "model.add(Dense(units=512, activation='relu'))\n",
        "model.add(Dense(units=3, activation='softmax'))"
      ],
      "execution_count": 19,
      "outputs": []
    },
    {
      "cell_type": "code",
      "metadata": {
        "id": "ie54vun1sdiF",
        "colab_type": "code",
        "colab": {}
      },
      "source": [
        "filepath = \"weights-best.hdf5\"\n",
        "\n",
        "checkpoint = ModelCheckpoint(filepath, monitor = 'val_accuracy', verbose=1, patience=3, save_best_only=True, mode='max')\n",
        "es = EarlyStopping(monitor='val_loss', mode='min', verbose=1, patience=3, min_delta=0.001, baseline=0.9)\n",
        "reduce_lr = ReduceLROnPlateau(monitor='val_loss', mode='min', patience=3, factor=0.01, min_lr=0.00001)\n",
        "\n",
        "model.compile(loss='categorical_crossentropy', optimizer='sgd', metrics=['accuracy'])"
      ],
      "execution_count": 20,
      "outputs": []
    },
    {
      "cell_type": "code",
      "metadata": {
        "id": "ucVenbGusnRh",
        "colab_type": "code",
        "colab": {
          "base_uri": "https://localhost:8080/",
          "height": 238
        },
        "outputId": "da8ebf43-d830-4871-d618-a890b2f37ea0"
      },
      "source": [
        "history = model.fit(train_aug, validation_data=valid_aug, epochs=10, callbacks=[checkpoint,es,reduce_lr])"
      ],
      "execution_count": 25,
      "outputs": [
        {
          "output_type": "stream",
          "text": [
            "Epoch 1/10\n",
            "13/13 [==============================] - ETA: 0s - loss: 1.0947 - accuracy: 0.3614\n",
            "Epoch 00001: val_accuracy did not improve from 0.41406\n",
            "13/13 [==============================] - 8s 611ms/step - loss: 1.0947 - accuracy: 0.3614 - val_loss: 1.0893 - val_accuracy: 0.4141\n",
            "Epoch 2/10\n",
            "13/13 [==============================] - ETA: 0s - loss: 1.1005 - accuracy: 0.3688\n",
            "Epoch 00002: val_accuracy did not improve from 0.41406\n",
            "13/13 [==============================] - 7s 573ms/step - loss: 1.1005 - accuracy: 0.3688 - val_loss: 1.0892 - val_accuracy: 0.3359\n",
            "Epoch 3/10\n",
            "13/13 [==============================] - ETA: 0s - loss: 1.0925 - accuracy: 0.3614\n",
            "Epoch 00003: val_accuracy did not improve from 0.41406\n",
            "13/13 [==============================] - 7s 569ms/step - loss: 1.0925 - accuracy: 0.3614 - val_loss: 1.0784 - val_accuracy: 0.4141\n",
            "Epoch 00003: early stopping\n"
          ],
          "name": "stdout"
        }
      ]
    },
    {
      "cell_type": "code",
      "metadata": {
        "id": "Orb9OJhSRK45",
        "colab_type": "code",
        "colab": {
          "base_uri": "https://localhost:8080/",
          "height": 51
        },
        "outputId": "e8212439-56dc-4b92-be3e-9ba662b15457"
      },
      "source": [
        "model.evaluate(test_aug)"
      ],
      "execution_count": 26,
      "outputs": [
        {
          "output_type": "stream",
          "text": [
            "4/4 [==============================] - 0s 115ms/step - loss: 1.0750 - accuracy: 0.4141\n"
          ],
          "name": "stdout"
        },
        {
          "output_type": "execute_result",
          "data": {
            "text/plain": [
              "[1.075047492980957, 0.4140625]"
            ]
          },
          "metadata": {
            "tags": []
          },
          "execution_count": 26
        }
      ]
    },
    {
      "cell_type": "code",
      "metadata": {
        "id": "6sC0qFge5m31",
        "colab_type": "code",
        "colab": {
          "base_uri": "https://localhost:8080/",
          "height": 542
        },
        "outputId": "a81f313b-b3f4-47cb-c292-c86575124a6c"
      },
      "source": [
        "fig = go.Figure()\n",
        "fig.add_trace(go.Scatter(y=history.history['accuracy'],\n",
        "                         mode='lines',\n",
        "                         name='Train'))\n",
        "fig.add_trace(go.Scatter(y=history.history['val_accuracy'],\n",
        "                         mode='lines',\n",
        "                         name='Validation'))\n",
        "fig.update_layout(title_text='Wine Data: Accuracy vs Epochs')\n",
        "fig.show()"
      ],
      "execution_count": 27,
      "outputs": [
        {
          "output_type": "display_data",
          "data": {
            "text/html": [
              "<html>\n",
              "<head><meta charset=\"utf-8\" /></head>\n",
              "<body>\n",
              "    <div>\n",
              "            <script src=\"https://cdnjs.cloudflare.com/ajax/libs/mathjax/2.7.5/MathJax.js?config=TeX-AMS-MML_SVG\"></script><script type=\"text/javascript\">if (window.MathJax) {MathJax.Hub.Config({SVG: {font: \"STIX-Web\"}});}</script>\n",
              "                <script type=\"text/javascript\">window.PlotlyConfig = {MathJaxConfig: 'local'};</script>\n",
              "        <script src=\"https://cdn.plot.ly/plotly-latest.min.js\"></script>    \n",
              "            <div id=\"52aa40e9-de75-4380-8cab-2cc90a545e9d\" class=\"plotly-graph-div\" style=\"height:525px; width:100%;\"></div>\n",
              "            <script type=\"text/javascript\">\n",
              "                \n",
              "                    window.PLOTLYENV=window.PLOTLYENV || {};\n",
              "                    \n",
              "                if (document.getElementById(\"52aa40e9-de75-4380-8cab-2cc90a545e9d\")) {\n",
              "                    Plotly.newPlot(\n",
              "                        '52aa40e9-de75-4380-8cab-2cc90a545e9d',\n",
              "                        [{\"mode\": \"lines\", \"name\": \"Train\", \"type\": \"scatter\", \"y\": [0.36138615012168884, 0.36881187558174133, 0.36138615012168884]}, {\"mode\": \"lines\", \"name\": \"Validation\", \"type\": \"scatter\", \"y\": [0.4140625, 0.3359375, 0.4140625]}],\n",
              "                        {\"template\": {\"data\": {\"bar\": [{\"error_x\": {\"color\": \"#2a3f5f\"}, \"error_y\": {\"color\": \"#2a3f5f\"}, \"marker\": {\"line\": {\"color\": \"#E5ECF6\", \"width\": 0.5}}, \"type\": \"bar\"}], \"barpolar\": [{\"marker\": {\"line\": {\"color\": \"#E5ECF6\", \"width\": 0.5}}, \"type\": \"barpolar\"}], \"carpet\": [{\"aaxis\": {\"endlinecolor\": \"#2a3f5f\", \"gridcolor\": \"white\", \"linecolor\": \"white\", \"minorgridcolor\": \"white\", \"startlinecolor\": \"#2a3f5f\"}, \"baxis\": {\"endlinecolor\": \"#2a3f5f\", \"gridcolor\": \"white\", \"linecolor\": \"white\", \"minorgridcolor\": \"white\", \"startlinecolor\": \"#2a3f5f\"}, \"type\": \"carpet\"}], \"choropleth\": [{\"colorbar\": {\"outlinewidth\": 0, \"ticks\": \"\"}, \"type\": \"choropleth\"}], \"contour\": [{\"colorbar\": {\"outlinewidth\": 0, \"ticks\": \"\"}, \"colorscale\": [[0.0, \"#0d0887\"], [0.1111111111111111, \"#46039f\"], [0.2222222222222222, \"#7201a8\"], [0.3333333333333333, \"#9c179e\"], [0.4444444444444444, \"#bd3786\"], [0.5555555555555556, \"#d8576b\"], [0.6666666666666666, \"#ed7953\"], [0.7777777777777778, \"#fb9f3a\"], [0.8888888888888888, \"#fdca26\"], [1.0, \"#f0f921\"]], \"type\": \"contour\"}], \"contourcarpet\": [{\"colorbar\": {\"outlinewidth\": 0, \"ticks\": \"\"}, \"type\": \"contourcarpet\"}], \"heatmap\": [{\"colorbar\": {\"outlinewidth\": 0, \"ticks\": \"\"}, \"colorscale\": [[0.0, \"#0d0887\"], [0.1111111111111111, \"#46039f\"], [0.2222222222222222, \"#7201a8\"], [0.3333333333333333, \"#9c179e\"], [0.4444444444444444, \"#bd3786\"], [0.5555555555555556, \"#d8576b\"], [0.6666666666666666, \"#ed7953\"], [0.7777777777777778, \"#fb9f3a\"], [0.8888888888888888, \"#fdca26\"], [1.0, \"#f0f921\"]], \"type\": \"heatmap\"}], \"heatmapgl\": [{\"colorbar\": {\"outlinewidth\": 0, \"ticks\": \"\"}, \"colorscale\": [[0.0, \"#0d0887\"], [0.1111111111111111, \"#46039f\"], [0.2222222222222222, \"#7201a8\"], [0.3333333333333333, \"#9c179e\"], [0.4444444444444444, \"#bd3786\"], [0.5555555555555556, \"#d8576b\"], [0.6666666666666666, \"#ed7953\"], [0.7777777777777778, \"#fb9f3a\"], [0.8888888888888888, \"#fdca26\"], [1.0, \"#f0f921\"]], \"type\": \"heatmapgl\"}], \"histogram\": [{\"marker\": {\"colorbar\": {\"outlinewidth\": 0, \"ticks\": \"\"}}, \"type\": \"histogram\"}], \"histogram2d\": [{\"colorbar\": {\"outlinewidth\": 0, \"ticks\": \"\"}, \"colorscale\": [[0.0, \"#0d0887\"], [0.1111111111111111, \"#46039f\"], [0.2222222222222222, \"#7201a8\"], [0.3333333333333333, \"#9c179e\"], [0.4444444444444444, \"#bd3786\"], [0.5555555555555556, \"#d8576b\"], [0.6666666666666666, \"#ed7953\"], [0.7777777777777778, \"#fb9f3a\"], [0.8888888888888888, \"#fdca26\"], [1.0, \"#f0f921\"]], \"type\": \"histogram2d\"}], \"histogram2dcontour\": [{\"colorbar\": {\"outlinewidth\": 0, \"ticks\": \"\"}, \"colorscale\": [[0.0, \"#0d0887\"], [0.1111111111111111, \"#46039f\"], [0.2222222222222222, \"#7201a8\"], [0.3333333333333333, \"#9c179e\"], [0.4444444444444444, \"#bd3786\"], [0.5555555555555556, \"#d8576b\"], [0.6666666666666666, \"#ed7953\"], [0.7777777777777778, \"#fb9f3a\"], [0.8888888888888888, \"#fdca26\"], [1.0, \"#f0f921\"]], \"type\": \"histogram2dcontour\"}], \"mesh3d\": [{\"colorbar\": {\"outlinewidth\": 0, \"ticks\": \"\"}, \"type\": \"mesh3d\"}], \"parcoords\": [{\"line\": {\"colorbar\": {\"outlinewidth\": 0, \"ticks\": \"\"}}, \"type\": \"parcoords\"}], \"pie\": [{\"automargin\": true, \"type\": \"pie\"}], \"scatter\": [{\"marker\": {\"colorbar\": {\"outlinewidth\": 0, \"ticks\": \"\"}}, \"type\": \"scatter\"}], \"scatter3d\": [{\"line\": {\"colorbar\": {\"outlinewidth\": 0, \"ticks\": \"\"}}, \"marker\": {\"colorbar\": {\"outlinewidth\": 0, \"ticks\": \"\"}}, \"type\": \"scatter3d\"}], \"scattercarpet\": [{\"marker\": {\"colorbar\": {\"outlinewidth\": 0, \"ticks\": \"\"}}, \"type\": \"scattercarpet\"}], \"scattergeo\": [{\"marker\": {\"colorbar\": {\"outlinewidth\": 0, \"ticks\": \"\"}}, \"type\": \"scattergeo\"}], \"scattergl\": [{\"marker\": {\"colorbar\": {\"outlinewidth\": 0, \"ticks\": \"\"}}, \"type\": \"scattergl\"}], \"scattermapbox\": [{\"marker\": {\"colorbar\": {\"outlinewidth\": 0, \"ticks\": \"\"}}, \"type\": \"scattermapbox\"}], \"scatterpolar\": [{\"marker\": {\"colorbar\": {\"outlinewidth\": 0, \"ticks\": \"\"}}, \"type\": \"scatterpolar\"}], \"scatterpolargl\": [{\"marker\": {\"colorbar\": {\"outlinewidth\": 0, \"ticks\": \"\"}}, \"type\": \"scatterpolargl\"}], \"scatterternary\": [{\"marker\": {\"colorbar\": {\"outlinewidth\": 0, \"ticks\": \"\"}}, \"type\": \"scatterternary\"}], \"surface\": [{\"colorbar\": {\"outlinewidth\": 0, \"ticks\": \"\"}, \"colorscale\": [[0.0, \"#0d0887\"], [0.1111111111111111, \"#46039f\"], [0.2222222222222222, \"#7201a8\"], [0.3333333333333333, \"#9c179e\"], [0.4444444444444444, \"#bd3786\"], [0.5555555555555556, \"#d8576b\"], [0.6666666666666666, \"#ed7953\"], [0.7777777777777778, \"#fb9f3a\"], [0.8888888888888888, \"#fdca26\"], [1.0, \"#f0f921\"]], \"type\": \"surface\"}], \"table\": [{\"cells\": {\"fill\": {\"color\": \"#EBF0F8\"}, \"line\": {\"color\": \"white\"}}, \"header\": {\"fill\": {\"color\": \"#C8D4E3\"}, \"line\": {\"color\": \"white\"}}, \"type\": \"table\"}]}, \"layout\": {\"annotationdefaults\": {\"arrowcolor\": \"#2a3f5f\", \"arrowhead\": 0, \"arrowwidth\": 1}, \"coloraxis\": {\"colorbar\": {\"outlinewidth\": 0, \"ticks\": \"\"}}, \"colorscale\": {\"diverging\": [[0, \"#8e0152\"], [0.1, \"#c51b7d\"], [0.2, \"#de77ae\"], [0.3, \"#f1b6da\"], [0.4, \"#fde0ef\"], [0.5, \"#f7f7f7\"], [0.6, \"#e6f5d0\"], [0.7, \"#b8e186\"], [0.8, \"#7fbc41\"], [0.9, \"#4d9221\"], [1, \"#276419\"]], \"sequential\": [[0.0, \"#0d0887\"], [0.1111111111111111, \"#46039f\"], [0.2222222222222222, \"#7201a8\"], [0.3333333333333333, \"#9c179e\"], [0.4444444444444444, \"#bd3786\"], [0.5555555555555556, \"#d8576b\"], [0.6666666666666666, \"#ed7953\"], [0.7777777777777778, \"#fb9f3a\"], [0.8888888888888888, \"#fdca26\"], [1.0, \"#f0f921\"]], \"sequentialminus\": [[0.0, \"#0d0887\"], [0.1111111111111111, \"#46039f\"], [0.2222222222222222, \"#7201a8\"], [0.3333333333333333, \"#9c179e\"], [0.4444444444444444, \"#bd3786\"], [0.5555555555555556, \"#d8576b\"], [0.6666666666666666, \"#ed7953\"], [0.7777777777777778, \"#fb9f3a\"], [0.8888888888888888, \"#fdca26\"], [1.0, \"#f0f921\"]]}, \"colorway\": [\"#636efa\", \"#EF553B\", \"#00cc96\", \"#ab63fa\", \"#FFA15A\", \"#19d3f3\", \"#FF6692\", \"#B6E880\", \"#FF97FF\", \"#FECB52\"], \"font\": {\"color\": \"#2a3f5f\"}, \"geo\": {\"bgcolor\": \"white\", \"lakecolor\": \"white\", \"landcolor\": \"#E5ECF6\", \"showlakes\": true, \"showland\": true, \"subunitcolor\": \"white\"}, \"hoverlabel\": {\"align\": \"left\"}, \"hovermode\": \"closest\", \"mapbox\": {\"style\": \"light\"}, \"paper_bgcolor\": \"white\", \"plot_bgcolor\": \"#E5ECF6\", \"polar\": {\"angularaxis\": {\"gridcolor\": \"white\", \"linecolor\": \"white\", \"ticks\": \"\"}, \"bgcolor\": \"#E5ECF6\", \"radialaxis\": {\"gridcolor\": \"white\", \"linecolor\": \"white\", \"ticks\": \"\"}}, \"scene\": {\"xaxis\": {\"backgroundcolor\": \"#E5ECF6\", \"gridcolor\": \"white\", \"gridwidth\": 2, \"linecolor\": \"white\", \"showbackground\": true, \"ticks\": \"\", \"zerolinecolor\": \"white\"}, \"yaxis\": {\"backgroundcolor\": \"#E5ECF6\", \"gridcolor\": \"white\", \"gridwidth\": 2, \"linecolor\": \"white\", \"showbackground\": true, \"ticks\": \"\", \"zerolinecolor\": \"white\"}, \"zaxis\": {\"backgroundcolor\": \"#E5ECF6\", \"gridcolor\": \"white\", \"gridwidth\": 2, \"linecolor\": \"white\", \"showbackground\": true, \"ticks\": \"\", \"zerolinecolor\": \"white\"}}, \"shapedefaults\": {\"line\": {\"color\": \"#2a3f5f\"}}, \"ternary\": {\"aaxis\": {\"gridcolor\": \"white\", \"linecolor\": \"white\", \"ticks\": \"\"}, \"baxis\": {\"gridcolor\": \"white\", \"linecolor\": \"white\", \"ticks\": \"\"}, \"bgcolor\": \"#E5ECF6\", \"caxis\": {\"gridcolor\": \"white\", \"linecolor\": \"white\", \"ticks\": \"\"}}, \"title\": {\"x\": 0.05}, \"xaxis\": {\"automargin\": true, \"gridcolor\": \"white\", \"linecolor\": \"white\", \"ticks\": \"\", \"title\": {\"standoff\": 15}, \"zerolinecolor\": \"white\", \"zerolinewidth\": 2}, \"yaxis\": {\"automargin\": true, \"gridcolor\": \"white\", \"linecolor\": \"white\", \"ticks\": \"\", \"title\": {\"standoff\": 15}, \"zerolinecolor\": \"white\", \"zerolinewidth\": 2}}}, \"title\": {\"text\": \"Wine Data: Accuracy vs Epochs\"}},\n",
              "                        {\"responsive\": true}\n",
              "                    ).then(function(){\n",
              "                            \n",
              "var gd = document.getElementById('52aa40e9-de75-4380-8cab-2cc90a545e9d');\n",
              "var x = new MutationObserver(function (mutations, observer) {{\n",
              "        var display = window.getComputedStyle(gd).display;\n",
              "        if (!display || display === 'none') {{\n",
              "            console.log([gd, 'removed!']);\n",
              "            Plotly.purge(gd);\n",
              "            observer.disconnect();\n",
              "        }}\n",
              "}});\n",
              "\n",
              "// Listen for the removal of the full notebook cells\n",
              "var notebookContainer = gd.closest('#notebook-container');\n",
              "if (notebookContainer) {{\n",
              "    x.observe(notebookContainer, {childList: true});\n",
              "}}\n",
              "\n",
              "// Listen for the clearing of the current output cell\n",
              "var outputEl = gd.closest('.output');\n",
              "if (outputEl) {{\n",
              "    x.observe(outputEl, {childList: true});\n",
              "}}\n",
              "\n",
              "                        })\n",
              "                };\n",
              "                \n",
              "            </script>\n",
              "        </div>\n",
              "</body>\n",
              "</html>"
            ]
          },
          "metadata": {
            "tags": []
          }
        }
      ]
    },
    {
      "cell_type": "code",
      "metadata": {
        "id": "8byLLV705nyy",
        "colab_type": "code",
        "colab": {
          "base_uri": "https://localhost:8080/",
          "height": 542
        },
        "outputId": "994d8c5e-0dae-4ef4-cef7-2ada31b3d687"
      },
      "source": [
        "fig = go.Figure()\n",
        "fig.add_trace(go.Scatter(y=history.history['loss'],\n",
        "                         mode='lines',\n",
        "                         name='Train'))\n",
        "fig.add_trace(go.Scatter(y=history.history['val_loss'],\n",
        "                         mode='lines',\n",
        "                         name='Validation'))\n",
        "fig.update_layout(title_text='Wine Data: Loss vs Epochs')\n",
        "fig.show()"
      ],
      "execution_count": 28,
      "outputs": [
        {
          "output_type": "display_data",
          "data": {
            "text/html": [
              "<html>\n",
              "<head><meta charset=\"utf-8\" /></head>\n",
              "<body>\n",
              "    <div>\n",
              "            <script src=\"https://cdnjs.cloudflare.com/ajax/libs/mathjax/2.7.5/MathJax.js?config=TeX-AMS-MML_SVG\"></script><script type=\"text/javascript\">if (window.MathJax) {MathJax.Hub.Config({SVG: {font: \"STIX-Web\"}});}</script>\n",
              "                <script type=\"text/javascript\">window.PlotlyConfig = {MathJaxConfig: 'local'};</script>\n",
              "        <script src=\"https://cdn.plot.ly/plotly-latest.min.js\"></script>    \n",
              "            <div id=\"93eac35a-fa75-430c-9ceb-92d5fa7c6e21\" class=\"plotly-graph-div\" style=\"height:525px; width:100%;\"></div>\n",
              "            <script type=\"text/javascript\">\n",
              "                \n",
              "                    window.PLOTLYENV=window.PLOTLYENV || {};\n",
              "                    \n",
              "                if (document.getElementById(\"93eac35a-fa75-430c-9ceb-92d5fa7c6e21\")) {\n",
              "                    Plotly.newPlot(\n",
              "                        '93eac35a-fa75-430c-9ceb-92d5fa7c6e21',\n",
              "                        [{\"mode\": \"lines\", \"name\": \"Train\", \"type\": \"scatter\", \"y\": [1.0947155952453613, 1.100456714630127, 1.092540979385376]}, {\"mode\": \"lines\", \"name\": \"Validation\", \"type\": \"scatter\", \"y\": [1.0892810821533203, 1.0892295837402344, 1.0784475803375244]}],\n",
              "                        {\"template\": {\"data\": {\"bar\": [{\"error_x\": {\"color\": \"#2a3f5f\"}, \"error_y\": {\"color\": \"#2a3f5f\"}, \"marker\": {\"line\": {\"color\": \"#E5ECF6\", \"width\": 0.5}}, \"type\": \"bar\"}], \"barpolar\": [{\"marker\": {\"line\": {\"color\": \"#E5ECF6\", \"width\": 0.5}}, \"type\": \"barpolar\"}], \"carpet\": [{\"aaxis\": {\"endlinecolor\": \"#2a3f5f\", \"gridcolor\": \"white\", \"linecolor\": \"white\", \"minorgridcolor\": \"white\", \"startlinecolor\": \"#2a3f5f\"}, \"baxis\": {\"endlinecolor\": \"#2a3f5f\", \"gridcolor\": \"white\", \"linecolor\": \"white\", \"minorgridcolor\": \"white\", \"startlinecolor\": \"#2a3f5f\"}, \"type\": \"carpet\"}], \"choropleth\": [{\"colorbar\": {\"outlinewidth\": 0, \"ticks\": \"\"}, \"type\": \"choropleth\"}], \"contour\": [{\"colorbar\": {\"outlinewidth\": 0, \"ticks\": \"\"}, \"colorscale\": [[0.0, \"#0d0887\"], [0.1111111111111111, \"#46039f\"], [0.2222222222222222, \"#7201a8\"], [0.3333333333333333, \"#9c179e\"], [0.4444444444444444, \"#bd3786\"], [0.5555555555555556, \"#d8576b\"], [0.6666666666666666, \"#ed7953\"], [0.7777777777777778, \"#fb9f3a\"], [0.8888888888888888, \"#fdca26\"], [1.0, \"#f0f921\"]], \"type\": \"contour\"}], \"contourcarpet\": [{\"colorbar\": {\"outlinewidth\": 0, \"ticks\": \"\"}, \"type\": \"contourcarpet\"}], \"heatmap\": [{\"colorbar\": {\"outlinewidth\": 0, \"ticks\": \"\"}, \"colorscale\": [[0.0, \"#0d0887\"], [0.1111111111111111, \"#46039f\"], [0.2222222222222222, \"#7201a8\"], [0.3333333333333333, \"#9c179e\"], [0.4444444444444444, \"#bd3786\"], [0.5555555555555556, \"#d8576b\"], [0.6666666666666666, \"#ed7953\"], [0.7777777777777778, \"#fb9f3a\"], [0.8888888888888888, \"#fdca26\"], [1.0, \"#f0f921\"]], \"type\": \"heatmap\"}], \"heatmapgl\": [{\"colorbar\": {\"outlinewidth\": 0, \"ticks\": \"\"}, \"colorscale\": [[0.0, \"#0d0887\"], [0.1111111111111111, \"#46039f\"], [0.2222222222222222, \"#7201a8\"], [0.3333333333333333, \"#9c179e\"], [0.4444444444444444, \"#bd3786\"], [0.5555555555555556, \"#d8576b\"], [0.6666666666666666, \"#ed7953\"], [0.7777777777777778, \"#fb9f3a\"], [0.8888888888888888, \"#fdca26\"], [1.0, \"#f0f921\"]], \"type\": \"heatmapgl\"}], \"histogram\": [{\"marker\": {\"colorbar\": {\"outlinewidth\": 0, \"ticks\": \"\"}}, \"type\": \"histogram\"}], \"histogram2d\": [{\"colorbar\": {\"outlinewidth\": 0, \"ticks\": \"\"}, \"colorscale\": [[0.0, \"#0d0887\"], [0.1111111111111111, \"#46039f\"], [0.2222222222222222, \"#7201a8\"], [0.3333333333333333, \"#9c179e\"], [0.4444444444444444, \"#bd3786\"], [0.5555555555555556, \"#d8576b\"], [0.6666666666666666, \"#ed7953\"], [0.7777777777777778, \"#fb9f3a\"], [0.8888888888888888, \"#fdca26\"], [1.0, \"#f0f921\"]], \"type\": \"histogram2d\"}], \"histogram2dcontour\": [{\"colorbar\": {\"outlinewidth\": 0, \"ticks\": \"\"}, \"colorscale\": [[0.0, \"#0d0887\"], [0.1111111111111111, \"#46039f\"], [0.2222222222222222, \"#7201a8\"], [0.3333333333333333, \"#9c179e\"], [0.4444444444444444, \"#bd3786\"], [0.5555555555555556, \"#d8576b\"], [0.6666666666666666, \"#ed7953\"], [0.7777777777777778, \"#fb9f3a\"], [0.8888888888888888, \"#fdca26\"], [1.0, \"#f0f921\"]], \"type\": \"histogram2dcontour\"}], \"mesh3d\": [{\"colorbar\": {\"outlinewidth\": 0, \"ticks\": \"\"}, \"type\": \"mesh3d\"}], \"parcoords\": [{\"line\": {\"colorbar\": {\"outlinewidth\": 0, \"ticks\": \"\"}}, \"type\": \"parcoords\"}], \"pie\": [{\"automargin\": true, \"type\": \"pie\"}], \"scatter\": [{\"marker\": {\"colorbar\": {\"outlinewidth\": 0, \"ticks\": \"\"}}, \"type\": \"scatter\"}], \"scatter3d\": [{\"line\": {\"colorbar\": {\"outlinewidth\": 0, \"ticks\": \"\"}}, \"marker\": {\"colorbar\": {\"outlinewidth\": 0, \"ticks\": \"\"}}, \"type\": \"scatter3d\"}], \"scattercarpet\": [{\"marker\": {\"colorbar\": {\"outlinewidth\": 0, \"ticks\": \"\"}}, \"type\": \"scattercarpet\"}], \"scattergeo\": [{\"marker\": {\"colorbar\": {\"outlinewidth\": 0, \"ticks\": \"\"}}, \"type\": \"scattergeo\"}], \"scattergl\": [{\"marker\": {\"colorbar\": {\"outlinewidth\": 0, \"ticks\": \"\"}}, \"type\": \"scattergl\"}], \"scattermapbox\": [{\"marker\": {\"colorbar\": {\"outlinewidth\": 0, \"ticks\": \"\"}}, \"type\": \"scattermapbox\"}], \"scatterpolar\": [{\"marker\": {\"colorbar\": {\"outlinewidth\": 0, \"ticks\": \"\"}}, \"type\": \"scatterpolar\"}], \"scatterpolargl\": [{\"marker\": {\"colorbar\": {\"outlinewidth\": 0, \"ticks\": \"\"}}, \"type\": \"scatterpolargl\"}], \"scatterternary\": [{\"marker\": {\"colorbar\": {\"outlinewidth\": 0, \"ticks\": \"\"}}, \"type\": \"scatterternary\"}], \"surface\": [{\"colorbar\": {\"outlinewidth\": 0, \"ticks\": \"\"}, \"colorscale\": [[0.0, \"#0d0887\"], [0.1111111111111111, \"#46039f\"], [0.2222222222222222, \"#7201a8\"], [0.3333333333333333, \"#9c179e\"], [0.4444444444444444, \"#bd3786\"], [0.5555555555555556, \"#d8576b\"], [0.6666666666666666, \"#ed7953\"], [0.7777777777777778, \"#fb9f3a\"], [0.8888888888888888, \"#fdca26\"], [1.0, \"#f0f921\"]], \"type\": \"surface\"}], \"table\": [{\"cells\": {\"fill\": {\"color\": \"#EBF0F8\"}, \"line\": {\"color\": \"white\"}}, \"header\": {\"fill\": {\"color\": \"#C8D4E3\"}, \"line\": {\"color\": \"white\"}}, \"type\": \"table\"}]}, \"layout\": {\"annotationdefaults\": {\"arrowcolor\": \"#2a3f5f\", \"arrowhead\": 0, \"arrowwidth\": 1}, \"coloraxis\": {\"colorbar\": {\"outlinewidth\": 0, \"ticks\": \"\"}}, \"colorscale\": {\"diverging\": [[0, \"#8e0152\"], [0.1, \"#c51b7d\"], [0.2, \"#de77ae\"], [0.3, \"#f1b6da\"], [0.4, \"#fde0ef\"], [0.5, \"#f7f7f7\"], [0.6, \"#e6f5d0\"], [0.7, \"#b8e186\"], [0.8, \"#7fbc41\"], [0.9, \"#4d9221\"], [1, \"#276419\"]], \"sequential\": [[0.0, \"#0d0887\"], [0.1111111111111111, \"#46039f\"], [0.2222222222222222, \"#7201a8\"], [0.3333333333333333, \"#9c179e\"], [0.4444444444444444, \"#bd3786\"], [0.5555555555555556, \"#d8576b\"], [0.6666666666666666, \"#ed7953\"], [0.7777777777777778, \"#fb9f3a\"], [0.8888888888888888, \"#fdca26\"], [1.0, \"#f0f921\"]], \"sequentialminus\": [[0.0, \"#0d0887\"], [0.1111111111111111, \"#46039f\"], [0.2222222222222222, \"#7201a8\"], [0.3333333333333333, \"#9c179e\"], [0.4444444444444444, \"#bd3786\"], [0.5555555555555556, \"#d8576b\"], [0.6666666666666666, \"#ed7953\"], [0.7777777777777778, \"#fb9f3a\"], [0.8888888888888888, \"#fdca26\"], [1.0, \"#f0f921\"]]}, \"colorway\": [\"#636efa\", \"#EF553B\", \"#00cc96\", \"#ab63fa\", \"#FFA15A\", \"#19d3f3\", \"#FF6692\", \"#B6E880\", \"#FF97FF\", \"#FECB52\"], \"font\": {\"color\": \"#2a3f5f\"}, \"geo\": {\"bgcolor\": \"white\", \"lakecolor\": \"white\", \"landcolor\": \"#E5ECF6\", \"showlakes\": true, \"showland\": true, \"subunitcolor\": \"white\"}, \"hoverlabel\": {\"align\": \"left\"}, \"hovermode\": \"closest\", \"mapbox\": {\"style\": \"light\"}, \"paper_bgcolor\": \"white\", \"plot_bgcolor\": \"#E5ECF6\", \"polar\": {\"angularaxis\": {\"gridcolor\": \"white\", \"linecolor\": \"white\", \"ticks\": \"\"}, \"bgcolor\": \"#E5ECF6\", \"radialaxis\": {\"gridcolor\": \"white\", \"linecolor\": \"white\", \"ticks\": \"\"}}, \"scene\": {\"xaxis\": {\"backgroundcolor\": \"#E5ECF6\", \"gridcolor\": \"white\", \"gridwidth\": 2, \"linecolor\": \"white\", \"showbackground\": true, \"ticks\": \"\", \"zerolinecolor\": \"white\"}, \"yaxis\": {\"backgroundcolor\": \"#E5ECF6\", \"gridcolor\": \"white\", \"gridwidth\": 2, \"linecolor\": \"white\", \"showbackground\": true, \"ticks\": \"\", \"zerolinecolor\": \"white\"}, \"zaxis\": {\"backgroundcolor\": \"#E5ECF6\", \"gridcolor\": \"white\", \"gridwidth\": 2, \"linecolor\": \"white\", \"showbackground\": true, \"ticks\": \"\", \"zerolinecolor\": \"white\"}}, \"shapedefaults\": {\"line\": {\"color\": \"#2a3f5f\"}}, \"ternary\": {\"aaxis\": {\"gridcolor\": \"white\", \"linecolor\": \"white\", \"ticks\": \"\"}, \"baxis\": {\"gridcolor\": \"white\", \"linecolor\": \"white\", \"ticks\": \"\"}, \"bgcolor\": \"#E5ECF6\", \"caxis\": {\"gridcolor\": \"white\", \"linecolor\": \"white\", \"ticks\": \"\"}}, \"title\": {\"x\": 0.05}, \"xaxis\": {\"automargin\": true, \"gridcolor\": \"white\", \"linecolor\": \"white\", \"ticks\": \"\", \"title\": {\"standoff\": 15}, \"zerolinecolor\": \"white\", \"zerolinewidth\": 2}, \"yaxis\": {\"automargin\": true, \"gridcolor\": \"white\", \"linecolor\": \"white\", \"ticks\": \"\", \"title\": {\"standoff\": 15}, \"zerolinecolor\": \"white\", \"zerolinewidth\": 2}}}, \"title\": {\"text\": \"Wine Data: Loss vs Epochs\"}},\n",
              "                        {\"responsive\": true}\n",
              "                    ).then(function(){\n",
              "                            \n",
              "var gd = document.getElementById('93eac35a-fa75-430c-9ceb-92d5fa7c6e21');\n",
              "var x = new MutationObserver(function (mutations, observer) {{\n",
              "        var display = window.getComputedStyle(gd).display;\n",
              "        if (!display || display === 'none') {{\n",
              "            console.log([gd, 'removed!']);\n",
              "            Plotly.purge(gd);\n",
              "            observer.disconnect();\n",
              "        }}\n",
              "}});\n",
              "\n",
              "// Listen for the removal of the full notebook cells\n",
              "var notebookContainer = gd.closest('#notebook-container');\n",
              "if (notebookContainer) {{\n",
              "    x.observe(notebookContainer, {childList: true});\n",
              "}}\n",
              "\n",
              "// Listen for the clearing of the current output cell\n",
              "var outputEl = gd.closest('.output');\n",
              "if (outputEl) {{\n",
              "    x.observe(outputEl, {childList: true});\n",
              "}}\n",
              "\n",
              "                        })\n",
              "                };\n",
              "                \n",
              "            </script>\n",
              "        </div>\n",
              "</body>\n",
              "</html>"
            ]
          },
          "metadata": {
            "tags": []
          }
        }
      ]
    },
    {
      "cell_type": "code",
      "metadata": {
        "id": "9W_-iCd4ZHhk",
        "colab_type": "code",
        "colab": {}
      },
      "source": [
        ""
      ],
      "execution_count": null,
      "outputs": []
    }
  ]
}